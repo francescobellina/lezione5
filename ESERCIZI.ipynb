{
  "cells": [
    {
      "cell_type": "code",
      "execution_count": null,
      "metadata": {
        "id": "WLF5xcMHLY0l"
      },
      "outputs": [],
      "source": []
    },
    {
      "cell_type": "markdown",
      "source": [
        "#ESERCIZIO1:"
      ],
      "metadata": {
        "id": "A1qYAi9bLdwG"
      }
    },
    {
      "cell_type": "code",
      "source": [
        "#Create a python library that implements the Fraction class,\n",
        "#containing its constructor, the data members to save numerator and denominator,\n",
        "#and the class method that returns the SUM between the numerator and the denominator.\n",
        "\n",
        "\n",
        "from math import gcd\n",
        "import sys\n",
        "\n",
        "\n",
        "\n",
        "class Fraction :\n",
        "    '''\n",
        "    a simple class implementing a high-level object\n",
        "    to handle fractions and their operations\n",
        "    '''\n",
        "\n",
        "    def __init__ (self, numerator, denominator) :\n",
        "\n",
        "\n",
        "        if denominator == 0 :\n",
        "            raise ValueError ('Denominator cannot be zero')\n",
        "        if type(numerator) != int:\n",
        "            raise TypeError ('Numerator must be an integer')\n",
        "        if not isinstance(denominator, int ): # alternative way to check the type\n",
        "            raise TypeError ('Denominator must be an integer')\n",
        "\n",
        "        # this allows to avoid calculating the LCM in the sum and subtraction\n",
        "        common_divisor = gcd (numerator, denominator) # greatest common divisor\n",
        "        self.numerator = numerator // common_divisor\n",
        "        self.denominator = denominator // common_divisor\n",
        "\n",
        "\n",
        "    def print (self) :\n",
        "        '''\n",
        "        prints the value of the fraction on screen\n",
        "        '''\n",
        "        print (str (self.numerator) + '/' + str (self.denominator))\n",
        "\n",
        "    def ratio (self) :\n",
        "        '''\n",
        "        calculates the actual ratio between numerator and denominator,\n",
        "        practically acting as a casting to float\n",
        "        '''\n",
        "        return self.numerator / self.denominator\n",
        "\n",
        "    def __add__ (self, other) :\n",
        "        \"\"\"implements the addition of two fractions.\n",
        "            Fraction: the addition of the two fractions\n",
        "            NEL MAIN POSSO SOMMARE GLI OGGETTI DI TIPO FRACTION\n",
        "        \"\"\"\n",
        "        new_numerator = self.numerator * other.denominator + other.numerator * self.denominator\n",
        "        new_denominator = self.denominator * other.denominator\n",
        "        return Fraction (new_numerator, new_denominator)\n",
        "\n",
        "\n",
        "# ---- ---- ---- ---- ---- ---- ---- ---- ---- ---- ---- ---- ----\n",
        "\n",
        "\n",
        "def testing ()  :\n",
        "    '''\n",
        "    Function to test the class behaviour, called in the main program\n",
        "    '''\n",
        "\n",
        "    print ('Initial fractions:')   #PER strampare la prima frazione ecc\n",
        "    frac1 = Fraction (3, 4)\n",
        "    frac1.print ()\n",
        "    print ('ratio: ', frac1.ratio ())\n",
        "\n",
        "    frac2 = Fraction (1, 2)\n",
        "    frac2.print ()\n",
        "    print ('ratio: ', frac2.ratio ())\n",
        "\n",
        "    sum_frac = frac1 + frac2    #SOMMA TRA FRAZIONI, che regole hanno? uso __add__ e abilito il + tra i due oggetti!!!\n",
        "    print ('\\nSum :')     ##con __add__ come posso sommare frac1 e frac2 direttamente nel main come se fossero oggetti built-in\n",
        "    sum_frac.print ()\n",
        "\n",
        "   #POSSO FARE COSI ANCHE PER SOTTRAZIONI , DIVISIONI, MOLTIPLICAZ DI OGGETTI DI TRIPO FRACTION\n",
        "\n",
        "# ---- ---- ---- ---- ---- ---- ---- ---- ---- ---- ---- ---- ----\n",
        "\n",
        "\n",
        "if __name__ == \"__main__\" :\n",
        "    testing ()"
      ],
      "metadata": {
        "colab": {
          "base_uri": "https://localhost:8080/"
        },
        "id": "mFHNIZrvLc1F",
        "outputId": "b3b31cff-a164-4839-ca98-049325e28e6d"
      },
      "execution_count": null,
      "outputs": [
        {
          "output_type": "stream",
          "name": "stdout",
          "text": [
            "Initial fractions:\n",
            "3/4\n",
            "ratio:  0.75\n",
            "1/2\n",
            "ratio:  0.5\n",
            "\n",
            "Sum :\n",
            "5/4\n"
          ]
        }
      ]
    },
    {
      "cell_type": "markdown",
      "source": [
        "#esercizio2"
      ],
      "metadata": {
        "id": "MumPpMtjNLOq"
      }
    },
    {
      "cell_type": "code",
      "source": [
        "#Implement a test function of the class INSIDE the library file itself,\n",
        "#that verifies the output of each method of the class, and that prints on screen the value of the numerator and of the denominator of a fraction.\n",
        "\n",
        "\n",
        "#INSERIRE UNA FUNZIONE TESTER DENTRO LA LIBRERIA: deve verificare ciascun metodo della classe verificando gli output (in questo caso solo la somma, implementata nella classe grazie a __add__)\n",
        "from math import gcd\n",
        "import sys\n",
        "\n",
        "\n",
        "\n",
        "class Fraction :\n",
        "    '''\n",
        "    a simple class implementing a high-level object\n",
        "    to handle fractions and their operations\n",
        "    '''\n",
        "\n",
        "    def __init__ (self, numerator, denominator) :\n",
        "\n",
        "\n",
        "        if denominator == 0 :\n",
        "            raise ValueError ('Denominator cannot be zero')\n",
        "        if type(numerator) != int:\n",
        "            raise TypeError ('Numerator must be an integer')\n",
        "        if not isinstance(denominator, int ): # alternative way to check the type\n",
        "            raise TypeError ('Denominator must be an integer')\n",
        "\n",
        "        # this allows to avoid calculating the LCM in the sum and subtraction\n",
        "        common_divisor = gcd (numerator, denominator) # greatest common divisor\n",
        "        self.numerator = numerator // common_divisor\n",
        "        self.denominator = denominator // common_divisor\n",
        "\n",
        "\n",
        "    def print (self) :\n",
        "        '''\n",
        "        prints the value of the fraction on screen\n",
        "        '''\n",
        "        print (str (self.numerator) + '/' + str (self.denominator))\n",
        "\n",
        "    def ratio (self) :\n",
        "        '''\n",
        "        calculates the actual ratio between numerator and denominator,\n",
        "        practically acting as a casting to float\n",
        "        '''\n",
        "        return self.numerator / self.denominator\n",
        "\n",
        "    def __add__ (self, other) :\n",
        "        \"\"\"implements the addition of two fractions.\n",
        "            Fraction: the addition of the two fractions\n",
        "            NEL MAIN POSSO SOMMARE GLI OGGETTI DI TIPO FRACTION\n",
        "        \"\"\"\n",
        "        new_numerator = self.numerator * other.denominator + other.numerator * self.denominator\n",
        "        new_denominator = self.denominator * other.denominator\n",
        "        return Fraction (new_numerator, new_denominator)\n",
        "\n",
        "\n",
        "\n",
        "    def tester(self):\n",
        "      \"\"\"funzione che testa ciascun output del metodo della classe definita finora\"\"\"\n",
        "     frazio1= 3/4\n",
        "     frazio2= 1/2\n",
        "     fracsomma = frazio1 + frazio2\n",
        "      if fracsomma  == (frac)\n",
        "\n",
        "\n",
        "\n",
        "# ---- ---- ---- ---- ---- ---- ---- ---- ---- ---- ---- ---- ----\n",
        "\n",
        "\n",
        "def testing ()  :\n",
        "    '''\n",
        "    Function to test the class behaviour, called in the main program\n",
        "    '''\n",
        "\n",
        "    print ('Initial fractions:')    #PER strampare la prima frazione ecc\n",
        "    frac1 = Fraction (3, 4)\n",
        "    frac1.print ()\n",
        "    print ('ratio: ', frac1.ratio ())\n",
        "\n",
        "    frac2 = Fraction (1, 2)\n",
        "    frac2.print ()\n",
        "    print ('ratio: ', frac2.ratio ())\n",
        "\n",
        "    sum_frac = frac1 + frac2    #SOMMA TRA FRAZIONI, che regole hanno? : uso __add__ e abilito il + tra i due oggetti!!!\n",
        "    print ('\\nSum :')     #con __add__ come posso sommare frac1 e frac2 direttamente nel main come se fossero oggetti built-in\n",
        "    sum_frac.print ()\n",
        "    print('ovvero', sum_frac.ratio()) #mi stampo il valore float della frazione.\n",
        "   #POSSO FARE COSI ANCHE PER SOTTRAZIONI , DIVISIONI, MOLTIPLICAZ DI OGGETTI DI TRIPO FRACTION\n",
        "\n",
        "# ---- ---- ---- ---- ---- ---- ---- ---- ---- ---- ---- ---- ----\n",
        "\n",
        "\n",
        "if __name__ == \"__main__\" :\n",
        "    testing ()\n"
      ],
      "metadata": {
        "colab": {
          "base_uri": "https://localhost:8080/"
        },
        "id": "R9TtbbozNMSU",
        "outputId": "3d754501-b75d-476e-aea5-eddc56c08d0c"
      },
      "execution_count": null,
      "outputs": [
        {
          "output_type": "stream",
          "name": "stdout",
          "text": [
            "Initial fractions:\n",
            "3/4\n",
            "ratio:  0.75\n",
            "1/2\n",
            "ratio:  0.5\n",
            "\n",
            "Sum :\n",
            "5/4\n",
            "ovvero 1.25\n"
          ]
        }
      ]
    },
    {
      "cell_type": "markdown",
      "source": [
        "#esercizio3"
      ],
      "metadata": {
        "id": "tFFrjggkZRY-"
      }
    },
    {
      "cell_type": "code",
      "source": [],
      "metadata": {
        "id": "I6jzMlL6ZSd-"
      },
      "execution_count": null,
      "outputs": []
    },
    {
      "cell_type": "markdown",
      "source": [
        "#esercizio4\n",
        "##funzione filter"
      ],
      "metadata": {
        "id": "XjaJM5H7ZUyk"
      }
    },
    {
      "cell_type": "code",
      "source": [
        "#Write a python program that reads the sample file eventi_unif.txt of Exercise 3.2 and,\n",
        "#using the FILTER function, creates two different sub-sets of events containing those larger or smaller than the average respectively, using LAMDA FUNCTION in the process.\n",
        "\n",
        "#Show that the sigma of the two subsets is half the one of the parent sample.\n",
        "#(Mostra che il sigma dei due sottoinsiemi è la metà di quello del campione genitore.)\n",
        "\n",
        "import numpy as np\n",
        "import matplotlib.pyplot as plt\n",
        "\n",
        "from statystic import mean, sigma\n",
        "\n",
        "\n",
        "#def main():\n",
        "\n",
        "lista1 = np.loadtxt(\"Downloads/eventi_unif.txt\")  #carico i dati in un array\n",
        "\n",
        "print(\"la media vale: \", mean(lista2))\n",
        "\n",
        "#((lambda x : mean(x))(lista1))  comando alternativo PER LA FUNZIONE LAMBDA\n",
        "func1 = lambda x : x > mean(lista1)  #implemento le funzioni lambda\n",
        "func2 = lambda x : x < mean(lista1)\n",
        "\n",
        "\n",
        "\n",
        "listasup = list (filter (func1, lista1))\n",
        "#print(\"stampo i valori che sono maggiori alla media: \")\n",
        "#for e in listasup : print(e)\n",
        "#->lista sup è proprio una lista con tali caratteristiche, se stampo stampo una lista. cosi stampo i suoi valori\n",
        "\n",
        "listainf  = list (filter (func2, lista2))\n",
        "\n",
        "\n",
        "#NOW: Show that the sigma of the two subsets is half the one of the parent sample\n",
        "\n",
        "print(\"la deviazione standard vale: \", sigma(lista2))\n",
        "print(\"la deviazione:\", sigma(listasup))\n",
        "print(\"la sigma di listainf vale\", sigma(listainf))\n",
        "\n",
        "#vedere lez5es4.py su VM"
      ],
      "metadata": {
        "id": "bnR_IAnmZWEi"
      },
      "execution_count": null,
      "outputs": []
    },
    {
      "cell_type": "markdown",
      "source": [
        "#esercizio5:\n",
        "##funzione map"
      ],
      "metadata": {
        "id": "MFduWfanqHbt"
      }
    },
    {
      "cell_type": "code",
      "source": [
        "\n",
        "#Write a python program that reads the sample file eventi_gauss.txt of Exercise 3.3 and\n",
        "# using the MAP function, creates the distribution of the squares and cubes of random Gaussian numbers(quelli forniti dal file txt lo sono), respectively, using lambda functions in the process.\n",
        "\n",
        "#Plot the distribution of them, together with the original sample one, all in the same frame.\n",
        "\n",
        "import numpy as np\n",
        "import matplotlib.pyplot as plt\n",
        "from math import sqrt\n",
        "import matplotlib.pyplot as plt\n",
        "#-----------------------------------------------------------------------------\n",
        "\n",
        "def mean (sample) :             #media\n",
        "    summ = sum (sample)\n",
        "    N = len (sample)\n",
        "    return summ / N\n",
        "\n",
        "def variance (sample, bessel = True) :\n",
        "\n",
        "    summ = 0.\n",
        "    sum_sq = 0.\n",
        "    N = len (sample)\n",
        "    for elem in sample :\n",
        "       summ += elem\n",
        "       sum_sq += elem * elem\n",
        "    var = sum_sq / N - summ * summ / (N * N)\n",
        "    if bessel : var = N * var / (N - 1)\n",
        "    return var\n",
        "\n",
        "# ---- ---- ---- ---- ---- ---- ---- ---- ---- ---- ---- ---- ----\n",
        "\n",
        "def sigma (sample, bessel = True) :\n",
        "\n",
        "    return sqrt (variance (sample, bessel))\n",
        "#------------------------------------------------------------------------\n",
        "\n",
        "#def main():\n",
        "\n",
        "lista1 = np.loadtxt(\"sample_data/eventi_gauss.txt\")  #carico i dati in un array\n",
        "squared = list (map (lambda x : x**2, lista1))\n",
        "cubes = list(map(lambda x : x**3, lista1))\n",
        "\n",
        "fig, ax = plt.subplots(1,3)\n",
        "\n",
        "ax[0].hist(lista1)\n",
        "ax[1].hist(squared, color=\"green\")\n",
        "ax[2].hist(cubes, color=\"red\")\n",
        "\n",
        "plt.show()"
      ],
      "metadata": {
        "id": "e4EWxYAkz4t3",
        "outputId": "c1245e0e-8e9a-4834-f40c-cc872e98cdc3",
        "colab": {
          "base_uri": "https://localhost:8080/",
          "height": 430
        }
      },
      "execution_count": null,
      "outputs": [
        {
          "output_type": "display_data",
          "data": {
            "text/plain": [
              "<Figure size 640x480 with 3 Axes>"
            ],
            "image/png": "[encoded data removed]"
          },
          "metadata": {}
        }
      ]
    },
    {
      "cell_type": "code",
      "source": [
        "#Create a python library that implements the Fraction class, containing its COSTRUCTOR,\n",
        "#the DATA MEMBERS to SAVE numerator and denominator,\n",
        "#and the CLASS METHOD that returns the division between the numerator and the denominator.\n",
        "\n",
        "class Fraction :\n",
        "\n",
        "  def  __init__(self, numerator, denominator) : #costruttore\n",
        "\n",
        "        if denominator == 0 :\n",
        "            print('Denominator cannot be zero')\n",
        "        if type(numerator) != int:\n",
        "            print('Numerator must be an integer')\n",
        "        if type(denominator) != int:\n",
        "            print('Denominator must be an integer')\n",
        "\n",
        "        self.numerator = numerator       #salvo sui dati membro\n",
        "        self.denominator = denominator\n",
        "\n",
        "\n",
        "  def division(self) :\n",
        "    return self.numerator / self.denominator   #stampa la divisione con i valori salvati sull'oggetto creato nel main\n",
        "\n",
        "def main():\n",
        "\n",
        " Fraction(5,2)\n",
        " print(Fraction(5,2).division())\n",
        "\n",
        " oggetto2 = Fraction(6,9)\n",
        " print(oggetto2.division())\n",
        "\n",
        " #oggetto3 = Fraction(5,0)\n",
        " #print(oggetto3.division())\n",
        "\n",
        "if __name__ == \"__main__\" :\n",
        "    main()"
      ],
      "metadata": {
        "colab": {
          "base_uri": "https://localhost:8080/"
        },
        "id": "k-6aEC3f1E0Q",
        "outputId": "4f290e04-42b8-473f-ff1e-0e0263f40b87"
      },
      "execution_count": 10,
      "outputs": [
        {
          "output_type": "stream",
          "name": "stdout",
          "text": [
            "2.5\n",
            "0.6666666666666666\n"
          ]
        }
      ]
    },
    {
      "cell_type": "code",
      "source": [
        "#Implement a TEST FUNCTION of the class INSIDE the library file itself, that verifies the output of each method of the class,\n",
        "#and that prints on screen the value of the numerator and of the denominator of a fraction.\n",
        "\n",
        "#quindi una funzione dentro la libreria mmmma fuori dalla classe che : verifichi gli output dei methodi della classe + stampi il valore del nnnumeratore e del\n",
        "#denoominatore della frazione\n",
        "\n",
        "class Fraction :\n",
        "\n",
        "  def  __init__(self, numerator, denominator) : #costruttore\n",
        "\n",
        "        if denominator == 0 :\n",
        "            print('Denominator cannot be zero')\n",
        "        if type(numerator) != int:\n",
        "            print('Numerator must be an integer')\n",
        "        if type(denominator) != int:\n",
        "            print('Denominator must be an integer')\n",
        "\n",
        "        self.numerator = numerator       #salvo sui dati membro\n",
        "        self.denominator = denominator\n",
        "\n",
        "\n",
        "  def division(self) : #per ora abbiamo un solo metodo della classe, verifichiamolo sotto.\n",
        "    return self.numerator / self.denominator   #stampa la divisione con i valori salvati sull'oggetto creato nel main\n",
        "\n",
        "\n",
        "def testing() :\n",
        " Fraction(5,2)\n",
        " print(Fraction(5,2).division())\n",
        " print('The numerator is :', Fraction(5,2).numerator)\n",
        " print('The denominator is :',   Fraction(5,2).denominator)\n",
        "\n",
        "if __name__ == \"__main__\" :\n",
        "    testing()\n"
      ],
      "metadata": {
        "colab": {
          "base_uri": "https://localhost:8080/"
        },
        "id": "gmiYWnpN6pFI",
        "outputId": "df1254c0-2475-494d-f54a-157eb1f6cd6b"
      },
      "execution_count": 13,
      "outputs": [
        {
          "output_type": "stream",
          "name": "stdout",
          "text": [
            "2.5\n",
            "The numerator is : 5\n",
            "The denominator is : 2\n"
          ]
        }
      ]
    },
    {
      "cell_type": "code",
      "source": [
        "#Add to the Fraction class the overloading of the +, -, *, / operations in such a way that each of them\n",
        "#returns an object of the type Fraction.\n",
        "\n",
        "#Add to the test function the call to all the new methods and the verification of their behaviour.\n",
        "#(aggiiiiungiamo un'altra funzione di test che verifichi le operrrrrrazioni di overloading)\n",
        "\n",
        "class Fraction :\n",
        "\n",
        "  def  __init__(self, numerator, denominator) : #costruttore\n",
        "\n",
        "        if denominator == 0 :\n",
        "            print('Denominator cannot be zero')\n",
        "        if type(numerator) != int:\n",
        "            print('Numerator must be an integer')\n",
        "        if type(denominator) != int:\n",
        "            print('Denominator must be an integer')\n",
        "\n",
        "        self.numerator = numerator       #salvo sui dati membro\n",
        "        self.denominator = denominator\n",
        "\n",
        "\n",
        "  def division(self) :\n",
        "    return self.numerator / self.denominator   #stampa la divisione con i valori salvati sull'oggetto creato nel main\n",
        "\n",
        "  #overloading di funzioni:\n",
        "  def __add__(self,other):  #per sommare nei main due oggetti di tipo Fraction\n",
        "        ''' voglio scrivere a/b + c/d      [sommo i due oggetti tramite + nel main\n",
        "            new_denominator =  b*d\n",
        "            new_numerator = a*d + b*c\n",
        "\n",
        "            queste sono le regole di somma, in questo caso, di due oggetti della classe Fraction\n",
        "          '''\n",
        "        new_denominator = self.denominator * other.denominator\n",
        "        new_numerator = self.numerator * other.denominator + other.numerator * self.denominator\n",
        "        return Fraction (new_numerator, new_denominator) #creo un nuovo oggettto fraction, poi dovrò passarlo ai methodi per la stampa\n",
        "\n",
        "  def __mul__(self,other) :\n",
        "       ''' regole per la moltiplicazione '''\n",
        "       new_numerator= self.numerator*other.numerator\n",
        "       new_denominator=self.denominator*other.denominator\n",
        "       return Fraction(new_numerator,new_denominator)\n",
        "\n",
        "#MANCA LA   RIDUZIONE AI MINIMI TERMINI\n",
        "#MANCA L'OVERLOADING PER / E - (per rendere piu conciso è chiaro il prog, l'implementazione è simile)\n",
        "#avrei potuto fare tutti i test su un unica funzione di testing\n",
        "#---------------------------------------------------------------------------------\n",
        "def testing1() :\n",
        " Fraction(5,2)\n",
        " print(Fraction(5,2).division())\n",
        " print('The numerator is :', Fraction(5,2).numerator)\n",
        " print('The denominator is :',   Fraction(5,2).denominator)\n",
        "\n",
        "def testing2() :\n",
        " oggetto1=Fraction(5,2)\n",
        " oggetto2=Fraction(6,2)\n",
        " somma1= oggetto1 + oggetto2 #somma corrisponde all'oggetto Fraction(22,4). tramite l'operatore + richiamo la funz di ovloading __add__\n",
        " print(somma1.division())\n",
        "\n",
        "def testing3() :\n",
        " oggetto1=Fraction(5,2)\n",
        " oggetto2=Fraction(6,2)\n",
        " prodotto1= oggetto1 * oggetto2 #tramite l'operatore + richiamo la funz di ovloading __mul__\n",
        " print(prodotto1.division())\n",
        "\n",
        "if __name__ == \"__main__\" :\n",
        "    testing1()\n",
        "    testing2()\n",
        "    testing3()"
      ],
      "metadata": {
        "colab": {
          "base_uri": "https://localhost:8080/"
        },
        "id": "2Dz1nip29-Qz",
        "outputId": "310bcb2b-a7cf-4799-87dc-db811a9f60d1"
      },
      "execution_count": 18,
      "outputs": [
        {
          "output_type": "stream",
          "name": "stdout",
          "text": [
            "2.5\n",
            "The numerator is : 5\n",
            "The denominator is : 2\n",
            "5.5\n",
            "7.5\n"
          ]
        }
      ]
    }
  ],
  "metadata": {
    "kernelspec": {
      "display_name": "Python 3 (ipykernel)",
      "language": "python",
      "name": "python3"
    },
    "language_info": {
      "codemirror_mode": {
        "name": "ipython",
        "version": 3
      },
      "file_extension": ".py",
      "mimetype": "text/x-python",
      "name": "python",
      "nbconvert_exporter": "python",
      "pygments_lexer": "ipython3",
      "version": "3.8.10"
    },
    "colab": {
      "provenance": []
    }
  },
  "nbformat": 4,
  "nbformat_minor": 0
}