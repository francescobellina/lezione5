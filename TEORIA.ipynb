{
  "cells": [
    {
      "cell_type": "markdown",
      "metadata": {
        "id": "W0rKrRIg2Jc6"
      },
      "source": [
        "#OOP in python:\n"
      ]
    },
    {
      "cell_type": "code",
      "execution_count": null,
      "metadata": {
        "id": "-lCx3kJS2Jc8"
      },
      "outputs": [],
      "source": [
        "#Basic python data types, like integers and float, may be used TO BUILT MORE sophisticated mathematical objects,\n",
        "#such as: complex numbers, fractions, matrices (e quindi con la loro algebra ecc implementata da noi)\n",
        "\n",
        "#Such high-level objects do have THEIR OWN BEHAVIORURS AD RULERS own behaviours: how to perform sums, multiplications, subtractions, et cetera\n",
        "\n",
        "#A python class is a way to build high-level objects putting together the variables that define them and the functions that determine their behaviour\n"
      ]
    },
    {
      "cell_type": "markdown",
      "source": [
        "#ingredienti per costruire una CLASSE:"
      ],
      "metadata": {
        "id": "UXlS3rX14PJO"
      }
    },
    {
      "cell_type": "code",
      "source": [
        "#DATA MEMBERS: all the variables that compose the high-level object\n",
        "#i dati membro sono i parametri, i variabili che compongono l'oggetto/CLASSE\n",
        "\n",
        "\n",
        "#CONSTRUCTOR: the function which builds each high-level object when initialized\n",
        "#Grazie a __init__(self,) e la chiamata .self posso inizializzare le variabili\n",
        "\n",
        "\n",
        "\n",
        "#METHODS:the functions that operate on the object variables to implement its high-level behaviour\n",
        "#i metodi della classe: funzioni all'interno della classe che definiscono comportamenti e operano sui parametri"
      ],
      "metadata": {
        "id": "8LbCKeyy4Zea"
      },
      "execution_count": null,
      "outputs": []
    },
    {
      "cell_type": "markdown",
      "source": [
        "#costruiamo una classe per gestire frazioni:\n",
        "##classe *Fraction*"
      ],
      "metadata": {
        "id": "RC0tMOF65Vzx"
      }
    },
    {
      "cell_type": "code",
      "source": [
        "from math import gcd\n",
        "class Fraction :\n",
        "    '''\n",
        "    # a simple class implementing a high-level object\n",
        "    # to handle fractions and their operations\n",
        "    '''\n",
        "\n",
        "    def __init__ (self, numerator, denominator) :   #COSTRUTTORE\n",
        "        '''\n",
        "        the constructor: initialises all the variables needed\n",
        "        for the high-level object functioning\n",
        "        '''\n",
        "        if denominator == 0 :\n",
        "          raise ValueError ('Denominator cannot be zero')\n",
        "        if type(numerator) != int:\n",
        "          raise TypeError ('Numerator must be an integer')\n",
        "        if not isinstance(denominator, int ): # alternative way to check the type\n",
        "          raise TypeError ('Denominator must be an integer')\n",
        "\n",
        "        # this allows to avoid calculating the LCM in the sum and subtraction\n",
        "        common_divisor = gcd (numerator, denominator) # greatest common divisor\n",
        "        self.numerator = numerator // common_divisor # integer division with floor division. INIZIALIZZAZIONE E DEFINIZIONE (self.param)\n",
        "        self.denominator = int(denominator / common_divisor) # integer division with casting\n",
        "\n",
        "    def print (self) : #funzione (metodo) che mi permette di stampare richiamando gli attributi\n",
        "        '''\n",
        "        prints the value of the fraction on screen\n",
        "        '''\n",
        "        print (str (self.numerator) + '/' + str (self.denominator))"
      ],
      "metadata": {
        "id": "0cVgLFDl58H2"
      },
      "execution_count": null,
      "outputs": []
    },
    {
      "cell_type": "markdown",
      "source": [
        "##usare la classe: funzione *__init__* (costruttore), operatore dot, sefl"
      ],
      "metadata": {
        "id": "IC8qbXTL62JE"
      }
    },
    {
      "cell_type": "code",
      "source": [
        "#The __init__ function, called constructor, is necessary and operates all the necessary actions to initialize a new high-level object of the type Fraction\n",
        "\n",
        "#The print function is a METHOD of the class and is one of the operations one might want to do with a high-level object,\n",
        "class Fraction ....\n",
        "\n",
        "int main():\n",
        "frac1 = Fraction (3, 4)\n",
        "frac1.print ()\n",
        "\n",
        "#The DOT OPERATOR allows to call class functions and access data members for a high-level object\n",
        "\n",
        "\n",
        "\n",
        "#The keyword self identifies the high-level object. LA PAROLA RISERVATA SELF\n",
        "#A high-level object always is an IMPLICIT argument of class functions, and is therefore always present as FIRST argument of all class methods\n",
        "#The class variables, which characterise the high-level object, are identified with the preamble self.\n"
      ],
      "metadata": {
        "id": "yL1oXJaI63lq"
      },
      "execution_count": null,
      "outputs": []
    },
    {
      "cell_type": "markdown",
      "source": [
        "#OVERLOADING DI FUNZIONI:"
      ],
      "metadata": {
        "id": "pbcR73RR7yRe"
      }
    },
    {
      "cell_type": "code",
      "source": [
        "#Since the Fraction class describes the field of the rational numbers, usual operations like the sum, subtraction, multiplication, division among fractions may be performed with specific rules\n",
        "#The python syntax allows to define the behaviour of the usual symbols (+, -, *, /) for the HIGH-LEVEL OBJECT built with the Fraction class\n",
        "\n",
        "#non posso creare due oggetti fraction e sommarmi nel main come fossero un tipo built in. Devo definire\n",
        "#le regole di comportamento dei determinati oggetti. LO faccio nella classe con l'overloading chiamando e definendo funzioni come\n",
        "#__add__, __sub__, __mul__ ecc\n",
        "#This property is called overloading\n",
        "\n",
        "\n",
        "\n",
        "  def __add__ (self, other) : #L'IMPLEMENTAZIONE DI QUESTE FUNZIONI È SEMPRE QUESTA\n",
        "      '''\n",
        "      implements the addition of two fractions.\n",
        "      This function will be callable with the + symbol\n",
        "      '''\n",
        "      new_numerator = self.numerator * other.denominator + other.numerator * self.denominator\n",
        "      new_denominator = self.denominator * other.denominator #  QUI POSSO METTERE QUALSIASI REGOLA ECC\n",
        "      return Fraction (new_numerator, new_denominator)\n",
        "\n",
        "  def __sub__ (self, other) :\n",
        "      # the - operator ...\n",
        "\n",
        "  def __mul__ (self, other) :\n",
        "      # the * operator ...\n",
        "\n",
        "  def __truediv__ (self, other) :\n",
        "      # the / operator ...\n",
        "\n",
        "  #VISIONARE L'ESEMPIO COMPLETTO SOTTO.\n"
      ],
      "metadata": {
        "id": "AXXG-2e670jr"
      },
      "execution_count": null,
      "outputs": []
    },
    {
      "cell_type": "markdown",
      "source": [
        "#funzione anonima: Lambda"
      ],
      "metadata": {
        "id": "M_zmaEKw86nJ"
      }
    },
    {
      "cell_type": "code",
      "source": [
        "#funzione... come posso semplificare?\n",
        "def square (a):\n",
        "    return a**2\n",
        "# ...\n",
        "print (square (number))\n",
        "\n",
        "#definizione 1:\n",
        "print ((lambda x : x**2)(number))\n",
        "#number è la variabile su cui faccio agire la funzione, x è di supporto (posso usare anche un altra lettera)\n",
        "\n",
        "#definizione 2:\n",
        "func = lambda x : x**2\n",
        "print (func (number))"
      ],
      "metadata": {
        "id": "CL-XlEht885B"
      },
      "execution_count": null,
      "outputs": []
    },
    {
      "cell_type": "markdown",
      "source": [
        "#programmazione funzionale: ottimizzazione dei LOOP sulle liste ecc\n",
        "## *map e filter*"
      ],
      "metadata": {
        "id": "1ct8o5Vt9jOZ"
      }
    },
    {
      "cell_type": "code",
      "source": [
        "#When dealing with lists and other containers,\n",
        "#python offers ways of acting on the whole collection of variables automatically building optimized loops\n",
        "\n",
        "#The built-in MAP function applies a passed-in function to all elements of a list:\n",
        "lista = list (range (-5, 5))\n",
        "squared = list (map (square, lista))\n",
        "#in this case, squared is a new list containing the square of the elements of lista\n",
        "\n",
        "#versione compatta: (sfrutto la funzione lambda direttamente nella definizione di squared e dentro map)\n",
        "squared = list (map (lambda x : x**2, lista))\n",
        "\n",
        "\n",
        "#------------\n",
        "\n",
        "#The built-in filter function applies a passed-in function to all elements of a list and returns a list\n",
        "#with the items for which the function is True:\n",
        "\n",
        "lista = list (filter (lambda x: x % 2 == 0, range(-5, 5)))\n",
        "#ritorna come valore una LISTA: per stampare membro a membro mi basta fare un loop su lista."
      ],
      "metadata": {
        "id": "0AJXg01U9ozj"
      },
      "execution_count": null,
      "outputs": []
    },
    {
      "cell_type": "markdown",
      "source": [
        "#ESEMPI:"
      ],
      "metadata": {
        "id": "DpL1smzwr3Xf"
      }
    },
    {
      "cell_type": "markdown",
      "source": [
        "##Classe Fraction"
      ],
      "metadata": {
        "id": "pc0s_DF-r7UV"
      }
    },
    {
      "cell_type": "code",
      "source": [
        "#!/usr/bin/python\n",
        "'''\n",
        "a simple class to handle fractions of integer numbers\n",
        "'''\n",
        "\n",
        "\n",
        "from math import gcd\n",
        "import sys\n",
        "\n",
        "\n",
        "def lcm (a, b) : #funzione che restituisce il MINIMO COMUNE MULTIPLO\n",
        "    \"\"\"least common multiple\n",
        "\n",
        "    Args:\n",
        "        a (int): the first number\n",
        "        b (int): the second number\n",
        "\n",
        "    Returns:\n",
        "        int: the least common multiple of the two numbers\n",
        "    \"\"\"\n",
        "    return a * b / gcd (a,b)\n",
        "\n",
        "\n",
        "# ---- ---- ---- ---- ---- ---- ---- ---- ---- ---- ---- ---- ----\n",
        "\n",
        "\n",
        "class Fraction :\n",
        "    '''\n",
        "    a simple class implementing a high-level object\n",
        "    to handle fractions and their operations\n",
        "    '''\n",
        "\n",
        "    def __init__ (self, numerator, denominator) : #GUARDA COME È IMPLEMENTATO ILCOSTRUTTORE,    ci deve sempre essere la parola riservata self\n",
        "        \"\"\"the constructor: initialises all the variables needed\n",
        "        for the high-level object functioning\n",
        "\n",
        "        Args:\n",
        "            numerator (int): the numerator of the fraction\n",
        "            denominator (int): the denominator of the fraction\n",
        "\n",
        "        Raises:\n",
        "            ValueError: Denominator cannot be zero\n",
        "            ValueError: Numerator must be an integer\n",
        "            ValueError: Denominator must be an integer\n",
        "        \"\"\"\n",
        "        if denominator == 0 :\n",
        "            raise ValueError ('Denominator cannot be zero')\n",
        "        if type(numerator) != int:\n",
        "            raise TypeError ('Numerator must be an integer')\n",
        "        if not isinstance(denominator, int ): # alternative way to check the type (isintance)\n",
        "            raise TypeError ('Denominator must be an integer')\n",
        "\n",
        "        # this allows to avoid calculating the LCM in the sum and subtraction\n",
        "        common_divisor = gcd (self.numerator, self.denominator) # greatest common divisor\n",
        "        self.numerator = numerator // common_divisor  #CHiamata con self dei vari parametri e loro inizializzazione\n",
        "        self.denominator = denominator // common_divisor\n",
        "\n",
        "    def print (self) :       #funzione (metodo della classe) che permettee di stampare\n",
        "        '''\n",
        "        prints the value of the fraction on screen\n",
        "        '''\n",
        "        print (str (self.numerator) + '/' + str (self.denominator))\n",
        "\n",
        "    def ratio (self) : #altra funzione (metodo)\n",
        "        '''\n",
        "        calculates the actual ratio between numerator and denominator,\n",
        "        practically acting as a casting to float\n",
        "        '''\n",
        "        return self.numerator / self.denominator\n",
        "\n",
        "\n",
        "    def __add__ (self, other) :  #INIZIANDO LE FUNZIONI OVERLOADING: mi permetteranno di usare gli operatori +, / ,* dei vari tipi_fraction\n",
        "    #potrò quindi sommarrre ecc i vari oggettttttti come se fossero dei tipi buil in (le regole di somma ecc le scrivo qui dentro)\n",
        "        \"\"\"implements the addition of two fractions.\n",
        "        Note that this function will be callable with the + symbol\n",
        "        in the program\n",
        "\n",
        "        Args:\n",
        "            other (Fraction): the fraction to be added to the current one\n",
        "\n",
        "        Returns:\n",
        "            Fraction: the addition of the two fractions\n",
        "        \"\"\"\n",
        "        new_numerator = self.numerator * other.denominator + other.numerator * self.denominator\n",
        "        new_denominator = self.denominator * other.denominator\n",
        "        return Fraction (new_numerator, new_denominator)\n",
        "\n",
        "    def __sub__ (self, other) : #le funz overloading hanno sempre questa scrittura\n",
        "        \"\"\"implements the subtraction of two fractions.\n",
        "        Note that this function will be callable with the - symbol\n",
        "        in the program\n",
        "\n",
        "        Args:\n",
        "            other (Fraction): the fraction to be subtracted from the current one\n",
        "\n",
        "        Returns:\n",
        "            Fraction: the subtraction of the two fractions\n",
        "        \"\"\"\n",
        "        new_numerator = self.numerator * other.denominator - other.numerator * self.denominator #QUI IMPLEMENTO LE MIE REGOLE\n",
        "        new_denominator = self.denominator * other.denominator\n",
        "        return Fraction (new_numerator, new_denominator)\n",
        "\n",
        "    def __mul__ (self, other) :\n",
        "        \"\"\"\n",
        "        implements the multiplications of two fractions.\n",
        "        Note that this function will be callable with the * symbol\n",
        "        in the program\n",
        "\n",
        "        Args:\n",
        "            other (Fraction): the fraction to be multiplied from the current one\n",
        "\n",
        "        Returns:\n",
        "            Fraction: the multiplication of the two fractions\n",
        "        \"\"\"\n",
        "        new_numerator = self.numerator * other.numerator\n",
        "        new_denominator = self.denominator * other.denominator\n",
        "        return Fraction (new_numerator, new_denominator)\n",
        "\n",
        "    def __truediv__ (self, other) :\n",
        "        '''\n",
        "        implements the ratio of two fractions.\n",
        "        Note that this function will be callable with the / symbol\n",
        "        in the program\n",
        "\n",
        "        Args:\n",
        "            other (Fraction): the fraction to be divided from the current one\n",
        "\n",
        "        Returns:\n",
        "            Fraction: the ratio of the two fractions\n",
        "        '''\n",
        "        if other.numerator == 0 :\n",
        "            print ('Cannot divide by zero')\n",
        "            sys.exit (1)\n",
        "\n",
        "        new_numerator = self.numerator * other.denominator\n",
        "        new_denominator = self.denominator * other.numerator\n",
        "        return Fraction (new_numerator, new_denominator)\n",
        "\n",
        "\n",
        "# ---- ---- ---- ---- ---- ---- ---- ---- ---- ---- ---- ---- ----\n",
        "\n",
        "\n",
        "def testing ()  : #main\n",
        "    '''\n",
        "    Function to test the class behaviour, called in the main program\n",
        "    '''\n",
        "\n",
        "    print ('Initial fractions:')\n",
        "    frac1 = Fraction (3, 4)\n",
        "    frac1.print ()\n",
        "    print ('ratio: ', frac1.ratio ())\n",
        "\n",
        "    frac2 = Fraction (1, 2)\n",
        "    frac2.print ()\n",
        "    print ('ratio: ', frac2.ratio ())\n",
        "\n",
        "    sum_frac = frac1 + frac2\n",
        "    print ('\\nSum :')\n",
        "    sum_frac.print ()\n",
        "\n",
        "    diff_frac = frac1 - frac2\n",
        "    print ('\\nDifference:')\n",
        "    diff_frac.print ()\n",
        "\n",
        "    prod_frac = frac1 * frac2\n",
        "    print ('\\nProduct:')\n",
        "    prod_frac.print ()\n",
        "\n",
        "    div_frac = frac1 / frac2\n",
        "    print ('\\nDivision:')\n",
        "    div_frac.print ()\n",
        "\n",
        "\n",
        "# ---- ---- ---- ---- ---- ---- ---- ---- ---- ---- ---- ---- ----\n",
        "\n",
        "\n",
        "if __name__ == \"__main__\" :\n",
        "    testing ()"
      ],
      "metadata": {
        "id": "W5V813ttsk2t",
        "outputId": "fbbe8659-4661-4a62-a8df-3ffc302ac637",
        "colab": {
          "base_uri": "https://localhost:8080/",
          "height": 375
        }
      },
      "execution_count": 1,
      "outputs": [
        {
          "output_type": "stream",
          "name": "stdout",
          "text": [
            "Initial fractions:\n"
          ]
        },
        {
          "output_type": "error",
          "ename": "AttributeError",
          "evalue": "ignored",
          "traceback": [
            "\u001b[0;31m---------------------------------------------------------------------------\u001b[0m",
            "\u001b[0;31mAttributeError\u001b[0m                            Traceback (most recent call last)",
            "\u001b[0;32m<ipython-input-1-82814a14c9c6>\u001b[0m in \u001b[0;36m<cell line: 177>\u001b[0;34m()\u001b[0m\n\u001b[1;32m    176\u001b[0m \u001b[0;34m\u001b[0m\u001b[0m\n\u001b[1;32m    177\u001b[0m \u001b[0;32mif\u001b[0m \u001b[0m__name__\u001b[0m \u001b[0;34m==\u001b[0m \u001b[0;34m\"__main__\"\u001b[0m \u001b[0;34m:\u001b[0m\u001b[0;34m\u001b[0m\u001b[0;34m\u001b[0m\u001b[0m\n\u001b[0;32m--> 178\u001b[0;31m     \u001b[0mtesting\u001b[0m \u001b[0;34m(\u001b[0m\u001b[0;34m)\u001b[0m\u001b[0;34m\u001b[0m\u001b[0;34m\u001b[0m\u001b[0m\n\u001b[0m",
            "\u001b[0;32m<ipython-input-1-82814a14c9c6>\u001b[0m in \u001b[0;36mtesting\u001b[0;34m()\u001b[0m\n\u001b[1;32m    147\u001b[0m \u001b[0;34m\u001b[0m\u001b[0m\n\u001b[1;32m    148\u001b[0m     \u001b[0mprint\u001b[0m \u001b[0;34m(\u001b[0m\u001b[0;34m'Initial fractions:'\u001b[0m\u001b[0;34m)\u001b[0m\u001b[0;34m\u001b[0m\u001b[0;34m\u001b[0m\u001b[0m\n\u001b[0;32m--> 149\u001b[0;31m     \u001b[0mfrac1\u001b[0m \u001b[0;34m=\u001b[0m \u001b[0mFraction\u001b[0m \u001b[0;34m(\u001b[0m\u001b[0;36m3\u001b[0m\u001b[0;34m,\u001b[0m \u001b[0;36m4\u001b[0m\u001b[0;34m)\u001b[0m\u001b[0;34m\u001b[0m\u001b[0;34m\u001b[0m\u001b[0m\n\u001b[0m\u001b[1;32m    150\u001b[0m     \u001b[0mfrac1\u001b[0m\u001b[0;34m.\u001b[0m\u001b[0mprint\u001b[0m \u001b[0;34m(\u001b[0m\u001b[0;34m)\u001b[0m\u001b[0;34m\u001b[0m\u001b[0;34m\u001b[0m\u001b[0m\n\u001b[1;32m    151\u001b[0m     \u001b[0mprint\u001b[0m \u001b[0;34m(\u001b[0m\u001b[0;34m'ratio: '\u001b[0m\u001b[0;34m,\u001b[0m \u001b[0mfrac1\u001b[0m\u001b[0;34m.\u001b[0m\u001b[0mratio\u001b[0m \u001b[0;34m(\u001b[0m\u001b[0;34m)\u001b[0m\u001b[0;34m)\u001b[0m\u001b[0;34m\u001b[0m\u001b[0;34m\u001b[0m\u001b[0m\n",
            "\u001b[0;32m<ipython-input-1-82814a14c9c6>\u001b[0m in \u001b[0;36m__init__\u001b[0;34m(self, numerator, denominator)\u001b[0m\n\u001b[1;32m     52\u001b[0m \u001b[0;34m\u001b[0m\u001b[0m\n\u001b[1;32m     53\u001b[0m         \u001b[0;31m# this allows to avoid calculating the LCM in the sum and subtraction\u001b[0m\u001b[0;34m\u001b[0m\u001b[0;34m\u001b[0m\u001b[0m\n\u001b[0;32m---> 54\u001b[0;31m         \u001b[0mcommon_divisor\u001b[0m \u001b[0;34m=\u001b[0m \u001b[0mgcd\u001b[0m \u001b[0;34m(\u001b[0m\u001b[0mself\u001b[0m\u001b[0;34m.\u001b[0m\u001b[0mnumerator\u001b[0m\u001b[0;34m,\u001b[0m \u001b[0mself\u001b[0m\u001b[0;34m.\u001b[0m\u001b[0mdenominator\u001b[0m\u001b[0;34m)\u001b[0m \u001b[0;31m# greatest common divisor\u001b[0m\u001b[0;34m\u001b[0m\u001b[0;34m\u001b[0m\u001b[0m\n\u001b[0m\u001b[1;32m     55\u001b[0m         \u001b[0mself\u001b[0m\u001b[0;34m.\u001b[0m\u001b[0mnumerator\u001b[0m \u001b[0;34m=\u001b[0m \u001b[0mnumerator\u001b[0m \u001b[0;34m//\u001b[0m \u001b[0mcommon_divisor\u001b[0m  \u001b[0;31m#CHiamata con self dei vari parametri e loro inizializzazione\u001b[0m\u001b[0;34m\u001b[0m\u001b[0;34m\u001b[0m\u001b[0m\n\u001b[1;32m     56\u001b[0m         \u001b[0mself\u001b[0m\u001b[0;34m.\u001b[0m\u001b[0mdenominator\u001b[0m \u001b[0;34m=\u001b[0m \u001b[0mdenominator\u001b[0m \u001b[0;34m//\u001b[0m \u001b[0mcommon_divisor\u001b[0m\u001b[0;34m\u001b[0m\u001b[0;34m\u001b[0m\u001b[0m\n",
            "\u001b[0;31mAttributeError\u001b[0m: 'Fraction' object has no attribute 'numerator'"
          ]
        }
      ]
    }
  ],
  "metadata": {
    "kernelspec": {
      "display_name": "Python 3 (ipykernel)",
      "language": "python",
      "name": "python3"
    },
    "language_info": {
      "codemirror_mode": {
        "name": "ipython",
        "version": 3
      },
      "file_extension": ".py",
      "mimetype": "text/x-python",
      "name": "python",
      "nbconvert_exporter": "python",
      "pygments_lexer": "ipython3",
      "version": "3.8.10"
    },
    "colab": {
      "provenance": []
    }
  },
  "nbformat": 4,
  "nbformat_minor": 0
}