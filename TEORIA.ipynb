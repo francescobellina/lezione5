{
  "cells": [
    {
      "cell_type": "markdown",
      "metadata": {
        "id": "W0rKrRIg2Jc6"
      },
      "source": [
        "#OOP in python:\n"
      ]
    },
    {
      "cell_type": "code",
      "execution_count": null,
      "metadata": {
        "id": "-lCx3kJS2Jc8"
      },
      "outputs": [],
      "source": [
        "#Basic python data types, like integers and float, may be used TO BUILT MORE sophisticated mathematical objects,\n",
        "#such as: complex numbers, fractions, matrices (e quindi con la loro algebra ecc implementata da noi)\n",
        "\n",
        "#Such high-level objects do have THEIR OWN BEHAVIORURS AD RULERS own behaviours: how to perform sums, multiplications, subtractions, et cetera\n",
        "\n",
        "#A python class is a way to build high-level objects putting together the variables that define them and the functions that determine their behaviour\n"
      ]
    },
    {
      "cell_type": "markdown",
      "source": [
        "#ingredienti per costruire una CLASSE:"
      ],
      "metadata": {
        "id": "UXlS3rX14PJO"
      }
    },
    {
      "cell_type": "code",
      "source": [
        "#DATA MEMBERS: all the variables that compose the high-level object\n",
        "#i dati membro sono i parametri, i variabili che compongono l'oggetto/CLASSE\n",
        "\n",
        "\n",
        "#CONSTRUCTOR: the function which builds each high-level object when initialized\n",
        "#Grazie a __init__(self,) e la chiamata .self posso inizializzare le variabili\n",
        "\n",
        "\n",
        "\n",
        "#METHODS:the functions that operate on the object variables to implement its high-level behaviour\n",
        "#i metodi della classe: funzioni all'interno della classe che definiscono comportamenti e operano sui parametri"
      ],
      "metadata": {
        "id": "8LbCKeyy4Zea"
      },
      "execution_count": null,
      "outputs": []
    },
    {
      "cell_type": "markdown",
      "source": [
        "#costruiamo una classe per gestire frazioni:\n",
        "##classe *Fraction*"
      ],
      "metadata": {
        "id": "RC0tMOF65Vzx"
      }
    },
    {
      "cell_type": "code",
      "source": [],
      "metadata": {
        "id": "Fd7J0uqA50E5"
      },
      "execution_count": null,
      "outputs": []
    }
  ],
  "metadata": {
    "kernelspec": {
      "display_name": "Python 3 (ipykernel)",
      "language": "python",
      "name": "python3"
    },
    "language_info": {
      "codemirror_mode": {
        "name": "ipython",
        "version": 3
      },
      "file_extension": ".py",
      "mimetype": "text/x-python",
      "name": "python",
      "nbconvert_exporter": "python",
      "pygments_lexer": "ipython3",
      "version": "3.8.10"
    },
    "colab": {
      "provenance": []
    }
  },
  "nbformat": 4,
  "nbformat_minor": 0
}