{
  "cells": [
    {
      "cell_type": "code",
      "execution_count": null,
      "metadata": {
        "id": "WLF5xcMHLY0l"
      },
      "outputs": [],
      "source": []
    },
    {
      "cell_type": "markdown",
      "source": [
        "#ESERCIZIO1:"
      ],
      "metadata": {
        "id": "A1qYAi9bLdwG"
      }
    },
    {
      "cell_type": "code",
      "source": [
        "#Create a python library that implements the Fraction class,\n",
        "#containing its constructor, the data members to save numerator and denominator,\n",
        "#and the class method that returns the SUM between the numerator and the denominator.\n",
        "\n",
        "\n",
        "from math import gcd\n",
        "import sys\n",
        "\n",
        "\n",
        "\n",
        "class Fraction :\n",
        "    '''\n",
        "    a simple class implementing a high-level object\n",
        "    to handle fractions and their operations\n",
        "    '''\n",
        "\n",
        "    def __init__ (self, numerator, denominator) :\n",
        "\n",
        "\n",
        "        if denominator == 0 :\n",
        "            raise ValueError ('Denominator cannot be zero')\n",
        "        if type(numerator) != int:\n",
        "            raise TypeError ('Numerator must be an integer')\n",
        "        if not isinstance(denominator, int ): # alternative way to check the type\n",
        "            raise TypeError ('Denominator must be an integer')\n",
        "\n",
        "        # this allows to avoid calculating the LCM in the sum and subtraction\n",
        "        common_divisor = gcd (numerator, denominator) # greatest common divisor\n",
        "        self.numerator = numerator // common_divisor\n",
        "        self.denominator = denominator // common_divisor\n",
        "\n",
        "\n",
        "    def print (self) :\n",
        "        '''\n",
        "        prints the value of the fraction on screen\n",
        "        '''\n",
        "        print (str (self.numerator) + '/' + str (self.denominator))\n",
        "\n",
        "    def ratio (self) :\n",
        "        '''\n",
        "        calculates the actual ratio between numerator and denominator,\n",
        "        practically acting as a casting to float\n",
        "        '''\n",
        "        return self.numerator / self.denominator\n",
        "\n",
        "    def __add__ (self, other) :\n",
        "        \"\"\"implements the addition of two fractions.\n",
        "            Fraction: the addition of the two fractions\n",
        "            NEL MAIN POSSO SOMMARE GLI OGGETTI DI TIPO FRACTION\n",
        "        \"\"\"\n",
        "        new_numerator = self.numerator * other.denominator + other.numerator * self.denominator\n",
        "        new_denominator = self.denominator * other.denominator\n",
        "        return Fraction (new_numerator, new_denominator)\n",
        "\n",
        "\n",
        "# ---- ---- ---- ---- ---- ---- ---- ---- ---- ---- ---- ---- ----\n",
        "\n",
        "\n",
        "def testing ()  :\n",
        "    '''\n",
        "    Function to test the class behaviour, called in the main program\n",
        "    '''\n",
        "\n",
        "    print ('Initial fractions:')   #PER strampare la prima frazione ecc\n",
        "    frac1 = Fraction (3, 4)\n",
        "    frac1.print ()\n",
        "    print ('ratio: ', frac1.ratio ())\n",
        "\n",
        "    frac2 = Fraction (1, 2)\n",
        "    frac2.print ()\n",
        "    print ('ratio: ', frac2.ratio ())\n",
        "\n",
        "    sum_frac = frac1 + frac2    #SOMMA TRA FRAZIONI, che regole hanno? uso __add__ e abilito il + tra i due oggetti!!!\n",
        "    print ('\\nSum :')     ##con __add__ come posso sommare frac1 e frac2 direttamente nel main come se fossero oggetti built-in\n",
        "    sum_frac.print ()\n",
        "\n",
        "   #POSSO FARE COSI ANCHE PER SOTTRAZIONI , DIVISIONI, MOLTIPLICAZ DI OGGETTI DI TRIPO FRACTION\n",
        "\n",
        "# ---- ---- ---- ---- ---- ---- ---- ---- ---- ---- ---- ---- ----\n",
        "\n",
        "\n",
        "if __name__ == \"__main__\" :\n",
        "    testing ()"
      ],
      "metadata": {
        "id": "mFHNIZrvLc1F",
        "outputId": "b3b31cff-a164-4839-ca98-049325e28e6d",
        "colab": {
          "base_uri": "https://localhost:8080/"
        }
      },
      "execution_count": 14,
      "outputs": [
        {
          "output_type": "stream",
          "name": "stdout",
          "text": [
            "Initial fractions:\n",
            "3/4\n",
            "ratio:  0.75\n",
            "1/2\n",
            "ratio:  0.5\n",
            "\n",
            "Sum :\n",
            "5/4\n"
          ]
        }
      ]
    },
    {
      "cell_type": "markdown",
      "source": [
        "#esercizio2"
      ],
      "metadata": {
        "id": "MumPpMtjNLOq"
      }
    },
    {
      "cell_type": "code",
      "source": [
        "#Implement a test function of the class INSIDE the library file itself,\n",
        "#that verifies the output of each method of the class, and that prints on screen the value of the numerator and of the denominator of a fraction.\n",
        "\n",
        "\n",
        "#INSERIRE UNA FUNZIONE TESTER DENTRO LA LIBRERIA: deve verificare ciascun metodo della classe verificando gli output\n",
        "from math import gcd\n",
        "import sys\n",
        "\n",
        "\n",
        "\n",
        "class Fraction :\n",
        "    '''\n",
        "    a simple class implementing a high-level object\n",
        "    to handle fractions and their operations\n",
        "    '''\n",
        "\n",
        "    def __init__ (self, numerator, denominator) :\n",
        "\n",
        "\n",
        "        if denominator == 0 :\n",
        "            raise ValueError ('Denominator cannot be zero')\n",
        "        if type(numerator) != int:\n",
        "            raise TypeError ('Numerator must be an integer')\n",
        "        if not isinstance(denominator, int ): # alternative way to check the type\n",
        "            raise TypeError ('Denominator must be an integer')\n",
        "\n",
        "        # this allows to avoid calculating the LCM in the sum and subtraction\n",
        "        common_divisor = gcd (numerator, denominator) # greatest common divisor\n",
        "        self.numerator = numerator // common_divisor\n",
        "        self.denominator = denominator // common_divisor\n",
        "\n",
        "\n",
        "    def print (self) :\n",
        "        '''\n",
        "        prints the value of the fraction on screen\n",
        "        '''\n",
        "        print (str (self.numerator) + '/' + str (self.denominator))\n",
        "\n",
        "    def ratio (self) :\n",
        "        '''\n",
        "        calculates the actual ratio between numerator and denominator,\n",
        "        practically acting as a casting to float\n",
        "        '''\n",
        "        return self.numerator / self.denominator\n",
        "\n",
        "    def __add__ (self, other) :\n",
        "        \"\"\"implements the addition of two fractions.\n",
        "            Fraction: the addition of the two fractions\n",
        "            NEL MAIN POSSO SOMMARE GLI OGGETTI DI TIPO FRACTION\n",
        "        \"\"\"\n",
        "        new_numerator = self.numerator * other.denominator + other.numerator * self.denominator\n",
        "        new_denominator = self.denominator * other.denominator\n",
        "        return Fraction (new_numerator, new_denominator)\n",
        "\n",
        "\n",
        "\n",
        "    def tester():\n",
        "      \"\"\"funzione che testa ciascun output del metodo della classe definita finora\"\"\"\n",
        "\n",
        "\n",
        "\n",
        "\n",
        "# ---- ---- ---- ---- ---- ---- ---- ---- ---- ---- ---- ---- ----\n",
        "\n",
        "\n",
        "def testing ()  :\n",
        "    '''\n",
        "    Function to test the class behaviour, called in the main program\n",
        "    '''\n",
        "\n",
        "    print ('Initial fractions:')    #PER strampare la prima frazione ecc\n",
        "    frac1 = Fraction (3, 4)\n",
        "    frac1.print ()\n",
        "    print ('ratio: ', frac1.ratio ())\n",
        "\n",
        "    frac2 = Fraction (1, 2)\n",
        "    frac2.print ()\n",
        "    print ('ratio: ', frac2.ratio ())\n",
        "\n",
        "    sum_frac = frac1 + frac2    #SOMMA TRA FRAZIONI, che regole hanno? : uso __add__ e abilito il + tra i due oggetti!!!\n",
        "    print ('\\nSum :')     #con __add__ come posso sommare frac1 e frac2 direttamente nel main come se fossero oggetti built-in\n",
        "    sum_frac.print ()\n",
        "\n",
        "   #POSSO FARE COSI ANCHE PER SOTTRAZIONI , DIVISIONI, MOLTIPLICAZ DI OGGETTI DI TRIPO FRACTION\n",
        "\n",
        "# ---- ---- ---- ---- ---- ---- ---- ---- ---- ---- ---- ---- ----\n",
        "\n",
        "\n",
        "if __name__ == \"__main__\" :\n",
        "    testing ()\n"
      ],
      "metadata": {
        "id": "R9TtbbozNMSU",
        "outputId": "05370c66-772a-4ecc-88b3-35ccbef25248",
        "colab": {
          "base_uri": "https://localhost:8080/"
        }
      },
      "execution_count": 15,
      "outputs": [
        {
          "output_type": "stream",
          "name": "stdout",
          "text": [
            "Initial fractions:\n",
            "3/4\n",
            "ratio:  0.75\n",
            "1/2\n",
            "ratio:  0.5\n",
            "\n",
            "Sum :\n",
            "5/4\n"
          ]
        }
      ]
    }
  ],
  "metadata": {
    "kernelspec": {
      "display_name": "Python 3 (ipykernel)",
      "language": "python",
      "name": "python3"
    },
    "language_info": {
      "codemirror_mode": {
        "name": "ipython",
        "version": 3
      },
      "file_extension": ".py",
      "mimetype": "text/x-python",
      "name": "python",
      "nbconvert_exporter": "python",
      "pygments_lexer": "ipython3",
      "version": "3.8.10"
    },
    "colab": {
      "provenance": []
    }
  },
  "nbformat": 4,
  "nbformat_minor": 0
}